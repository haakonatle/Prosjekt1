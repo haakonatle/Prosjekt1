{
 "cells": [
  {
   "cell_type": "markdown",
   "id": "701d7981",
   "metadata": {},
   "source": [
    "# COMPAS - Algoritmerevisjon"
   ]
  },
  {
   "cell_type": "markdown",
   "id": "a02b64ed",
   "metadata": {},
   "source": [
    "### a) - Oversikt over data"
   ]
  },
  {
   "cell_type": "code",
   "execution_count": 22,
   "id": "b12139d4-f77c-4a13-ab9e-ac26c8a31a79",
   "metadata": {},
   "outputs": [
    {
     "name": "stderr",
     "output_type": "stream",
     "text": [
      "/Users/hakonatlejakobsen/Library/Python/3.7/lib/python/site-packages/ipykernel_launcher.py:11: SettingWithCopyWarning: \n",
      "A value is trying to be set on a copy of a slice from a DataFrame.\n",
      "Try using .loc[row_indexer,col_indexer] = value instead\n",
      "\n",
      "See the caveats in the documentation: https://pandas.pydata.org/pandas-docs/stable/user_guide/indexing.html#returning-a-view-versus-a-copy\n",
      "  # This is added back by InteractiveShellApp.init_path()\n"
     ]
    },
    {
     "data": {
      "image/png": "[encoded data removed]",
      "text/plain": [
       "<Figure size 432x288 with 1 Axes>"
      ]
     },
     "metadata": {
      "needs_background": "light"
     },
     "output_type": "display_data"
    }
   ],
   "source": [
    "import pandas as pd\n",
    "import matplotlib.pyplot as plt\n",
    "\n",
    "df = pd.read_csv(\"data.csv\", delimiter=\",\")\n",
    "df = df.dropna(subset=[\"age\"])\n",
    "\n",
    "\n",
    "\n",
    "df_female = df[df[\"sex\"].str.contains(\"Female\")]\n",
    "\n",
    "df_female[\"is_recid\"] = df_female[\"is_recid\"].map(str)\n",
    "\n",
    "cat = []\n",
    "risk_recid = []\n",
    "for i in [\"High\", \"Low\"]:\n",
    "    for j in (0,1):\n",
    "        A1 = df_female[df_female[\"score_text\"].str.contains(i)]\n",
    "        A2 = A1[A1[\"is_recid\"].str.contains(f\"{j}\")]\n",
    "        risk_recid.append(f\"Risk: {i}\\n Recid: {j}\")\n",
    "        cat.append(len(A2))\n",
    " \n",
    "plt.bar(risk_recid, cat)\n",
    "plt.show()\n"
   ]
  },
  {
   "cell_type": "code",
   "execution_count": 18,
   "id": "d13cd34a-3e1c-47fb-b640-dde9965b3a36",
   "metadata": {},
   "outputs": [],
   "source": [
    "\n",
    "\n",
    "categorical_columns = [\"sex\", \"age_cat\", \"race\"]\n",
    "\n",
    "for i in categorical_columns:\n",
    "    dfoh = pd.get_dummies(df[i], prefix=i)\n",
    "    df = df.drop(i, axis = 1)\n",
    "    df = df.join(dfoh)\n",
    "\n",
    "\n",
    "X = df[[\"sex_Male\", \"sex_Female\", \"age_cat_Less than 25\", \"age_cat_25 - 45\", \"age_cat_Greater than 45\", \"race_Other\", \"race_African-American\", \"race_Caucasian\", \"race_Hispanic\", \"juv_fel_count\", \"juv_misd_count\", \"priors_count\"]]\n",
    "Y = df[\"decile_score\"]\n",
    "    "
   ]
  },
  {
   "cell_type": "code",
   "execution_count": null,
   "id": "9d5e99a5",
   "metadata": {},
   "outputs": [],
   "source": []
  }
 ],
 "metadata": {
  "kernelspec": {
   "display_name": "Python 3 (ipykernel)",
   "language": "python",
   "name": "python3"
  },
  "language_info": {
   "codemirror_mode": {
    "name": "ipython",
    "version": 3
   },
   "file_extension": ".py",
   "mimetype": "text/x-python",
   "name": "python",
   "nbconvert_exporter": "python",
   "pygments_lexer": "ipython3",
   "version": "3.7.3"
  }
 },
 "nbformat": 4,
 "nbformat_minor": 5
}
